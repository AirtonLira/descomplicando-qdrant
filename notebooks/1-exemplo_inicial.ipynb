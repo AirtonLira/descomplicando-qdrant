{
 "cells": [
  {
   "cell_type": "code",
   "execution_count": 12,
   "metadata": {},
   "outputs": [],
   "source": [
    "from qdrant_client import QdrantClient\n",
    "from qdrant_client.http.models import Distance, VectorParams \n",
    "from qdrant_client.http.models import PointStruct\n",
    "from qdrant_client.http.models import Filter, FieldCondition, MatchValue\n",
    "from pprint import pprint"
   ]
  },
  {
   "cell_type": "markdown",
   "metadata": {},
   "source": [
    "#### Um exemplo básico para uma collection"
   ]
  },
  {
   "cell_type": "code",
   "execution_count": 3,
   "metadata": {},
   "outputs": [
    {
     "data": {
      "text/plain": [
       "True"
      ]
     },
     "execution_count": 3,
     "metadata": {},
     "output_type": "execute_result"
    }
   ],
   "source": [
    "client = QdrantClient(host=\"localhost\", port=6333)\n",
    "client.create_collection(\n",
    "    collection_name=\"descomplicando_qdrant_collection\",\n",
    "    vectors_config=VectorParams(size=4, distance=Distance.DOT),\n",
    ")"
   ]
  },
  {
   "cell_type": "markdown",
   "metadata": {},
   "source": [
    "##### Adicionando vetores para mostrar de forma mais didatica:"
   ]
  },
  {
   "cell_type": "code",
   "execution_count": 4,
   "metadata": {},
   "outputs": [
    {
     "name": "stdout",
     "output_type": "stream",
     "text": [
      "UpdateResult(operation_id=0, status=<UpdateStatus.COMPLETED: 'completed'>)\n"
     ]
    }
   ],
   "source": [
    "operation_info = client.upsert(\n",
    "    collection_name=\"descomplicando_qdrant_collection\",\n",
    "    wait=True,\n",
    "    points=[\n",
    "        PointStruct(id=1, vector=[0.05, 0.61, 0.76, 0.74], payload={\"continente\": \"Europa\", \"cidade\": \"Berlin\"}),\n",
    "        PointStruct(id=2, vector=[0.19, 0.81, 0.75, 0.11], payload={\"continente\": \"Europa\", \"cidade\": \"Londres\"}),\n",
    "        PointStruct(id=4, vector=[0.18, 0.01, 0.85, 0.80], payload={\"continente\": \"America\", \"cidade\": \"Nova York\"}),\n",
    "        PointStruct(id=5, vector=[0.24, 0.18, 0.22, 0.44], payload={\"continente\": \"Asia\", \"cidade\": \"Beijing\"}),\n",
    "        PointStruct(id=6, vector=[0.35, 0.08, 0.11, 0.44], payload={\"continente\": \"Asia\", \"cidade\": \"Mumbai\"}),\n",
    "    ]\n",
    ")\n",
    "pprint(operation_info)"
   ]
  },
  {
   "cell_type": "code",
   "execution_count": 5,
   "metadata": {},
   "outputs": [
    {
     "name": "stdout",
     "output_type": "stream",
     "text": [
      "[ScoredPoint(id=4, version=0, score=1.362, payload={'continente': 'America', 'cidade': 'Nova York'}, vector=None, shard_key=None, order_value=None),\n",
      " ScoredPoint(id=1, version=0, score=1.273, payload={'continente': 'Europa', 'cidade': 'Berlin'}, vector=None, shard_key=None, order_value=None),\n",
      " ScoredPoint(id=2, version=0, score=0.871, payload={'continente': 'Europa', 'cidade': 'Londres'}, vector=None, shard_key=None, order_value=None)]\n"
     ]
    },
    {
     "name": "stderr",
     "output_type": "stream",
     "text": [
      "/tmp/ipykernel_22383/2098497542.py:1: DeprecationWarning: `search` method is deprecated and will be removed in the future. Use `query_points` instead.\n",
      "  search_result = client.search(\n"
     ]
    }
   ],
   "source": [
    "search_result = client.search(\n",
    "    collection_name=\"descomplicando_qdrant_collection\", query_vector=[0.2, 0.1, 0.9 ,0.7], limit=3\n",
    ")\n",
    "pprint(search_result)"
   ]
  },
  {
   "cell_type": "markdown",
   "metadata": {},
   "source": [
    "#### Buscando mais a fundo com um filtro:"
   ]
  },
  {
   "cell_type": "code",
   "execution_count": 16,
   "metadata": {},
   "outputs": [
    {
     "name": "stdout",
     "output_type": "stream",
     "text": [
      "QueryResponse(points=[ScoredPoint(id=5, version=0, score=0.572, payload={'continente': 'Asia', 'cidade': 'Beijing'}, vector=None, shard_key=None, order_value=None), ScoredPoint(id=6, version=0, score=0.485, payload={'continente': 'Asia', 'cidade': 'Mumbai'}, vector=None, shard_key=None, order_value=None)])\n"
     ]
    }
   ],
   "source": [
    "search_result = client.query_points(\n",
    "    collection_name=\"descomplicando_qdrant_collection\",\n",
    "    query=[0.2, 0.1, 0.9, 0.7],\n",
    "    query_filter=Filter(\n",
    "        must=[FieldCondition(key=\"continente\", match=MatchValue(value=\"Asia\"))]\n",
    "    ),\n",
    "    with_payload=True,\n",
    "    limit=3,\n",
    ")\n",
    "\n",
    "pprint(search_result)"
   ]
  }
 ],
 "metadata": {
  "kernelspec": {
   "display_name": "descomplicando-qdrant-lMQD7_w3-py3.10",
   "language": "python",
   "name": "python3"
  },
  "language_info": {
   "codemirror_mode": {
    "name": "ipython",
    "version": 3
   },
   "file_extension": ".py",
   "mimetype": "text/x-python",
   "name": "python",
   "nbconvert_exporter": "python",
   "pygments_lexer": "ipython3",
   "version": "3.10.12"
  }
 },
 "nbformat": 4,
 "nbformat_minor": 2
}
